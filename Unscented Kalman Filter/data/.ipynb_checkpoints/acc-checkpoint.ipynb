{
 "cells": [
  {
   "cell_type": "code",
   "execution_count": 21,
   "metadata": {},
   "outputs": [
    {
     "name": "stdout",
     "output_type": "stream",
     "text": [
      "0.0639974876189\n",
      "0.08772354685\n"
     ]
    }
   ],
   "source": [
    "import math\n",
    "import numpy as np\n",
    "\n",
    "lines = []\n",
    "prev_time = float(0)\n",
    "prev_vel = float(0)\n",
    "prev_yaw_rate = float(0)\n",
    "acc = []\n",
    "yaw_acc = []\n",
    "with open('obj_pose-laser-radar-synthetic-input.txt') as f:\n",
    "    lines = f.readlines()\n",
    "\n",
    "#print(lines)\n",
    "\n",
    "for line in lines:\n",
    "    line.strip('\\n')\n",
    "    #print(line)\n",
    "    vx = float(line.split('\\t')[-4])\n",
    "    #print(vx)\n",
    "    vy = float(line.split('\\t')[-3])\n",
    "    #print(vy)\n",
    "    v = math.sqrt(vx*vx + vy*vy)\n",
    "    time_cur = float(line.split('\\t')[-7])\n",
    "    time_cur = time_cur/1000000.0\n",
    "    #print(time_cur)\n",
    "    delta_time = time_cur - prev_time\n",
    "    delta_vel = v - prev_vel\n",
    "    \n",
    "    cur_yaw_r = float(line.split('\\t')[-1])\n",
    "    delta_yaw_r = cur_yaw_r - prev_yaw_rate\n",
    "    \n",
    "    acc.append(abs(delta_vel/delta_time))\n",
    "    yaw_acc.append(abs(delta_yaw_r/delta_time))\n",
    "    \n",
    "    prev_vel = v\n",
    "    prev_time = time_cur\n",
    "    prev_yaw_rate = cur_yaw_r\n",
    "\n",
    "#print(yaw_acc)\n",
    "print(np.mean((acc)))\n",
    "print(np.mean((yaw_acc)))\n",
    "    \n",
    "    \n",
    "    "
   ]
  },
  {
   "cell_type": "code",
   "execution_count": null,
   "metadata": {},
   "outputs": [],
   "source": []
  }
 ],
 "metadata": {
  "kernelspec": {
   "display_name": "Python 3",
   "language": "python",
   "name": "python3"
  },
  "language_info": {
   "codemirror_mode": {
    "name": "ipython",
    "version": 3
   },
   "file_extension": ".py",
   "mimetype": "text/x-python",
   "name": "python",
   "nbconvert_exporter": "python",
   "pygments_lexer": "ipython3",
   "version": "3.5.2"
  },
  "widgets": {
   "state": {},
   "version": "1.1.2"
  }
 },
 "nbformat": 4,
 "nbformat_minor": 2
}
