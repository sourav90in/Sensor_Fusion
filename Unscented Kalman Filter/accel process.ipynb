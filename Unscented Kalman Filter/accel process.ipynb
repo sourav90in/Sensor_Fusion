{
 "cells": [
  {
   "cell_type": "code",
   "execution_count": null,
   "metadata": {},
   "outputs": [],
   "source": [
    "lines = []\n",
    "prev_time = 0\n",
    "prev_vel = 0\n",
    "acc = []\n",
    "with open('filename') as f:\n",
    "    lines = f.readlines()\n",
    "\n",
    "\n",
    "for line in lines:\n",
    "    vx = line.split(' ')[-4]\n",
    "    vy = line.split(' ')[-3]\n",
    "    v = sqrt(vx*vx + vy*vy)\n",
    "    time_cur = line.split(' ')[-7]\n",
    "    delta_time = time_cur - prev_time\n",
    "    delta_vel = v - prev_vel\n",
    "    acc.append(delta_vel/delta_time)\n",
    "    \n",
    "    prev_vel = v\n",
    "    prev_time = time_cur\n",
    "    \n",
    "    \n",
    "    "
   ]
  }
 ],
 "metadata": {
  "kernelspec": {
   "display_name": "Python 3",
   "language": "python",
   "name": "python3"
  },
  "language_info": {
   "codemirror_mode": {
    "name": "ipython",
    "version": 3
   },
   "file_extension": ".py",
   "mimetype": "text/x-python",
   "name": "python",
   "nbconvert_exporter": "python",
   "pygments_lexer": "ipython3",
   "version": "3.5.2"
  },
  "widgets": {
   "state": {},
   "version": "1.1.2"
  }
 },
 "nbformat": 4,
 "nbformat_minor": 2
}
